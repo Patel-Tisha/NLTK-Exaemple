{
 "cells": [
  {
   "cell_type": "code",
   "execution_count": 1,
   "id": "5912ac4e-88f9-4b68-8c47-077d06339132",
   "metadata": {},
   "outputs": [],
   "source": [
    "import sklearn"
   ]
  },
  {
   "cell_type": "code",
   "execution_count": 2,
   "id": "cd8630b6-4e61-450e-a2b5-e0cb700adf9c",
   "metadata": {},
   "outputs": [],
   "source": [
    "x_train =[\"This was awesome an awesome movie\",\n",
    "         \"Great movie! I liked it a lot\",\n",
    "         \"Happy ending! awesome acting by the hero\",\n",
    "         \"loved it! truly great\",\n",
    "         \"bad not upto the mark\",\n",
    "         \"could have been better\",\n",
    "         \"surely a disappointing movie\"]\n",
    "\n",
    "y_train= [1,1,1,1,0,0,0]# 1-Positive, 0-Negative Class"
   ]
  },
  {
   "cell_type": "code",
   "execution_count": 53,
   "id": "d1a4ad07-0d28-4e0b-a4dd-c507d56e7b20",
   "metadata": {},
   "outputs": [
    {
     "data": {
      "text/plain": [
       "['This was awesome an awesome movie',\n",
       " 'Great movie! I liked it a lot',\n",
       " 'Happy ending! awesome acting by the hero',\n",
       " 'loved it! truly great',\n",
       " 'bad not upto the mark',\n",
       " 'could have been better',\n",
       " 'surely a disappointing movie']"
      ]
     },
     "execution_count": 53,
     "metadata": {},
     "output_type": "execute_result"
    }
   ],
   "source": [
    "x_train"
   ]
  },
  {
   "cell_type": "markdown",
   "id": "95fcc523-20fa-4ec0-bcba-71e1074c16f1",
   "metadata": {},
   "source": [
    "## Data Cleaning"
   ]
  },
  {
   "cell_type": "code",
   "execution_count": 4,
   "id": "53ef5eaa-c3b7-4262-ac79-76c6ff11a194",
   "metadata": {},
   "outputs": [],
   "source": [
    "from nltk.tokenize import RegexpTokenizer"
   ]
  },
  {
   "cell_type": "code",
   "execution_count": 5,
   "id": "a0bbcd3c-5270-42b5-b471-d21a0d558506",
   "metadata": {},
   "outputs": [],
   "source": [
    "from nltk.stem.porter import PorterStemmer\n",
    "from nltk.corpus import stopwords"
   ]
  },
  {
   "cell_type": "code",
   "execution_count": 6,
   "id": "79a15e88-c7e7-4271-b051-c7824c5cca3e",
   "metadata": {},
   "outputs": [
    {
     "name": "stderr",
     "output_type": "stream",
     "text": [
      "[nltk_data] Downloading package stopwords to\n",
      "[nltk_data]     C:\\Users\\np585\\AppData\\Roaming\\nltk_data...\n",
      "[nltk_data]   Package stopwords is already up-to-date!\n"
     ]
    },
    {
     "data": {
      "text/plain": [
       "True"
      ]
     },
     "execution_count": 6,
     "metadata": {},
     "output_type": "execute_result"
    }
   ],
   "source": [
    "import nltk\n",
    "nltk.download('stopwords')"
   ]
  },
  {
   "cell_type": "code",
   "execution_count": 7,
   "id": "c01c4a79-e36c-4cbd-a399-e9a9b9db5ec7",
   "metadata": {},
   "outputs": [],
   "source": [
    "tokenizer = RegexpTokenizer(r'\\w+')\n",
    "en_stopwords = set(stopwords.words('english'))\n",
    "ps = PorterStemmer()"
   ]
  },
  {
   "cell_type": "code",
   "execution_count": 8,
   "id": "a0e9e310-53fb-480f-ac1c-fedf60b5ef50",
   "metadata": {},
   "outputs": [],
   "source": [
    "def getCleanedText(text):\n",
    "    text = text.lower()\n",
    "\n",
    "    #Tokenize\n",
    "    tokens =tokenizer.tokenize(text)\n",
    "    new_tokens = [token for token in tokens if token not in en_stopwords]\n",
    "\n",
    "    stemmed_tokens =[ps.stem(tokens) for tokens in new_tokens]\n",
    "\n",
    "    clean_text = \"\".join(stemmed_tokens)\n",
    "\n",
    "    return clean_text"
   ]
  },
  {
   "cell_type": "code",
   "execution_count": 58,
   "id": "16a9120b-76bc-453a-ac6a-3d1206addcb7",
   "metadata": {},
   "outputs": [],
   "source": [
    "x_test =[\"I was happy & happy and I loved the acting in the movie\",\n",
    "        \"The movie I saw was bad\",\n",
    "        \"It is ok! not so good\",\n",
    "        \"It was amazing!\",\n",
    "        \"I liked a lot\",\n",
    "        \"I don't like this movie\",\n",
    "        \"There is no happyending, I dont't like it!\"]"
   ]
  },
  {
   "cell_type": "code",
   "execution_count": 59,
   "id": "e121f14c-f715-4422-875d-8f265a778df2",
   "metadata": {},
   "outputs": [],
   "source": [
    "x_clean =[getCleanedText(i) for i in x_train]\n",
    "xt_clean =[getCleanedText(i) for i in x_test]"
   ]
  },
  {
   "cell_type": "markdown",
   "id": "ad59869e-8aed-4b8d-b861-b40f9bec6c1d",
   "metadata": {},
   "source": [
    "# Vectorization"
   ]
  },
  {
   "cell_type": "code",
   "execution_count": 60,
   "id": "e178973b-b0cd-4c66-9670-dbc7dc189862",
   "metadata": {},
   "outputs": [],
   "source": [
    "from sklearn.feature_extraction.text import CountVectorizer"
   ]
  },
  {
   "cell_type": "code",
   "execution_count": 61,
   "id": "1cdc2ae3-f23d-464d-b2ff-913d03bffd5f",
   "metadata": {},
   "outputs": [],
   "source": [
    "cv =  CountVectorizer(ngram_range=(1,2))"
   ]
  },
  {
   "cell_type": "code",
   "execution_count": 62,
   "id": "f242e69a-ec61-4810-9929-c1b08e35f4ed",
   "metadata": {},
   "outputs": [],
   "source": [
    "x_vec = cv.fit_transform(x_clean).toarray()"
   ]
  },
  {
   "cell_type": "code",
   "execution_count": 63,
   "id": "45e66818-965f-4bf3-b562-1794a519e250",
   "metadata": {},
   "outputs": [
    {
     "data": {
      "text/plain": [
       "array([[1, 0, 0, 0, 0, 0, 0],\n",
       "       [0, 0, 0, 1, 0, 0, 0],\n",
       "       [0, 0, 0, 0, 1, 0, 0],\n",
       "       [0, 0, 0, 0, 0, 1, 0],\n",
       "       [0, 1, 0, 0, 0, 0, 0],\n",
       "       [0, 0, 1, 0, 0, 0, 0],\n",
       "       [0, 0, 0, 0, 0, 0, 1]], dtype=int64)"
      ]
     },
     "execution_count": 63,
     "metadata": {},
     "output_type": "execute_result"
    }
   ],
   "source": [
    "x_vec"
   ]
  },
  {
   "cell_type": "code",
   "execution_count": 64,
   "id": "260bd30c-85de-4f31-ae9a-f70c99acc7ce",
   "metadata": {},
   "outputs": [
    {
     "name": "stdout",
     "output_type": "stream",
     "text": [
      "['awesomawesommovi' 'baduptomark' 'couldbetter' 'greatmovilikelot'\n",
      " 'happiendawesomacthero' 'lovetruligreat' 'suredisappointmovi']\n"
     ]
    }
   ],
   "source": [
    "print(cv.get_feature_names_out())"
   ]
  },
  {
   "cell_type": "code",
   "execution_count": 65,
   "id": "bf6bd57e-6af6-4182-95c7-fbf08c049381",
   "metadata": {},
   "outputs": [],
   "source": [
    "xt_vect = cv.fit_transform(xt_clean).toarray()"
   ]
  },
  {
   "cell_type": "code",
   "execution_count": 66,
   "id": "2f7bf622-1c20-453d-8576-762424150776",
   "metadata": {},
   "outputs": [
    {
     "data": {
      "text/plain": [
       "array([[0, 1, 0, 0, 0, 0, 0],\n",
       "       [0, 0, 0, 0, 0, 1, 0],\n",
       "       [0, 0, 0, 0, 0, 0, 1],\n",
       "       [1, 0, 0, 0, 0, 0, 0],\n",
       "       [0, 0, 0, 1, 0, 0, 0],\n",
       "       [0, 0, 0, 0, 1, 0, 0],\n",
       "       [0, 0, 1, 0, 0, 0, 0]], dtype=int64)"
      ]
     },
     "execution_count": 66,
     "metadata": {},
     "output_type": "execute_result"
    }
   ],
   "source": [
    "xt_vect"
   ]
  },
  {
   "cell_type": "code",
   "execution_count": 67,
   "id": "33f4788f-fb70-4a35-8f91-565b3f8eb7ef",
   "metadata": {},
   "outputs": [
    {
     "name": "stdout",
     "output_type": "stream",
     "text": [
      "['amaz' 'happihappiloveactmovi' 'happyenddontlike' 'likelot' 'likemovi'\n",
      " 'movisawbad' 'okgood']\n"
     ]
    }
   ],
   "source": [
    "print(cv.get_feature_names_out())"
   ]
  },
  {
   "cell_type": "markdown",
   "id": "e2053863-e1cb-402d-808d-16d0b73d64eb",
   "metadata": {},
   "source": [
    "# Multinomial Naive Bayes"
   ]
  },
  {
   "cell_type": "code",
   "execution_count": 68,
   "id": "d39ce814-1ce3-4f0d-906e-bbd3ab64c76c",
   "metadata": {},
   "outputs": [],
   "source": [
    "# clacification\n",
    "from sklearn.naive_bayes import MultinomialNB"
   ]
  },
  {
   "cell_type": "code",
   "execution_count": 69,
   "id": "7fca6c5b-0b38-4af7-a683-00301665254e",
   "metadata": {},
   "outputs": [],
   "source": [
    "mn = MultinomialNB()"
   ]
  },
  {
   "cell_type": "code",
   "execution_count": 70,
   "id": "ea5a8d37-e712-4b6d-8a5f-305d31ef833b",
   "metadata": {},
   "outputs": [
    {
     "data": {
      "text/html": [
       "<style>#sk-container-id-6 {color: black;}#sk-container-id-6 pre{padding: 0;}#sk-container-id-6 div.sk-toggleable {background-color: white;}#sk-container-id-6 label.sk-toggleable__label {cursor: pointer;display: block;width: 100%;margin-bottom: 0;padding: 0.3em;box-sizing: border-box;text-align: center;}#sk-container-id-6 label.sk-toggleable__label-arrow:before {content: \"▸\";float: left;margin-right: 0.25em;color: #696969;}#sk-container-id-6 label.sk-toggleable__label-arrow:hover:before {color: black;}#sk-container-id-6 div.sk-estimator:hover label.sk-toggleable__label-arrow:before {color: black;}#sk-container-id-6 div.sk-toggleable__content {max-height: 0;max-width: 0;overflow: hidden;text-align: left;background-color: #f0f8ff;}#sk-container-id-6 div.sk-toggleable__content pre {margin: 0.2em;color: black;border-radius: 0.25em;background-color: #f0f8ff;}#sk-container-id-6 input.sk-toggleable__control:checked~div.sk-toggleable__content {max-height: 200px;max-width: 100%;overflow: auto;}#sk-container-id-6 input.sk-toggleable__control:checked~label.sk-toggleable__label-arrow:before {content: \"▾\";}#sk-container-id-6 div.sk-estimator input.sk-toggleable__control:checked~label.sk-toggleable__label {background-color: #d4ebff;}#sk-container-id-6 div.sk-label input.sk-toggleable__control:checked~label.sk-toggleable__label {background-color: #d4ebff;}#sk-container-id-6 input.sk-hidden--visually {border: 0;clip: rect(1px 1px 1px 1px);clip: rect(1px, 1px, 1px, 1px);height: 1px;margin: -1px;overflow: hidden;padding: 0;position: absolute;width: 1px;}#sk-container-id-6 div.sk-estimator {font-family: monospace;background-color: #f0f8ff;border: 1px dotted black;border-radius: 0.25em;box-sizing: border-box;margin-bottom: 0.5em;}#sk-container-id-6 div.sk-estimator:hover {background-color: #d4ebff;}#sk-container-id-6 div.sk-parallel-item::after {content: \"\";width: 100%;border-bottom: 1px solid gray;flex-grow: 1;}#sk-container-id-6 div.sk-label:hover label.sk-toggleable__label {background-color: #d4ebff;}#sk-container-id-6 div.sk-serial::before {content: \"\";position: absolute;border-left: 1px solid gray;box-sizing: border-box;top: 0;bottom: 0;left: 50%;z-index: 0;}#sk-container-id-6 div.sk-serial {display: flex;flex-direction: column;align-items: center;background-color: white;padding-right: 0.2em;padding-left: 0.2em;position: relative;}#sk-container-id-6 div.sk-item {position: relative;z-index: 1;}#sk-container-id-6 div.sk-parallel {display: flex;align-items: stretch;justify-content: center;background-color: white;position: relative;}#sk-container-id-6 div.sk-item::before, #sk-container-id-6 div.sk-parallel-item::before {content: \"\";position: absolute;border-left: 1px solid gray;box-sizing: border-box;top: 0;bottom: 0;left: 50%;z-index: -1;}#sk-container-id-6 div.sk-parallel-item {display: flex;flex-direction: column;z-index: 1;position: relative;background-color: white;}#sk-container-id-6 div.sk-parallel-item:first-child::after {align-self: flex-end;width: 50%;}#sk-container-id-6 div.sk-parallel-item:last-child::after {align-self: flex-start;width: 50%;}#sk-container-id-6 div.sk-parallel-item:only-child::after {width: 0;}#sk-container-id-6 div.sk-dashed-wrapped {border: 1px dashed gray;margin: 0 0.4em 0.5em 0.4em;box-sizing: border-box;padding-bottom: 0.4em;background-color: white;}#sk-container-id-6 div.sk-label label {font-family: monospace;font-weight: bold;display: inline-block;line-height: 1.2em;}#sk-container-id-6 div.sk-label-container {text-align: center;}#sk-container-id-6 div.sk-container {/* jupyter's `normalize.less` sets `[hidden] { display: none; }` but bootstrap.min.css set `[hidden] { display: none !important; }` so we also need the `!important` here to be able to override the default hidden behavior on the sphinx rendered scikit-learn.org. See: https://github.com/scikit-learn/scikit-learn/issues/21755 */display: inline-block !important;position: relative;}#sk-container-id-6 div.sk-text-repr-fallback {display: none;}</style><div id=\"sk-container-id-6\" class=\"sk-top-container\"><div class=\"sk-text-repr-fallback\"><pre>MultinomialNB()</pre><b>In a Jupyter environment, please rerun this cell to show the HTML representation or trust the notebook. <br />On GitHub, the HTML representation is unable to render, please try loading this page with nbviewer.org.</b></div><div class=\"sk-container\" hidden><div class=\"sk-item\"><div class=\"sk-estimator sk-toggleable\"><input class=\"sk-toggleable__control sk-hidden--visually\" id=\"sk-estimator-id-6\" type=\"checkbox\" checked><label for=\"sk-estimator-id-6\" class=\"sk-toggleable__label sk-toggleable__label-arrow\">MultinomialNB</label><div class=\"sk-toggleable__content\"><pre>MultinomialNB()</pre></div></div></div></div></div>"
      ],
      "text/plain": [
       "MultinomialNB()"
      ]
     },
     "execution_count": 70,
     "metadata": {},
     "output_type": "execute_result"
    }
   ],
   "source": [
    "mn.fit(x_vec,y_train)"
   ]
  },
  {
   "cell_type": "code",
   "execution_count": 71,
   "id": "5d6dafe8-8c85-456b-940d-fabe4c09b71b",
   "metadata": {},
   "outputs": [],
   "source": [
    "y_pred = mn.predict(xt_vect)"
   ]
  },
  {
   "cell_type": "code",
   "execution_count": 72,
   "id": "abd4e50d-d086-43b9-b2ff-d016e0a7fe89",
   "metadata": {},
   "outputs": [
    {
     "data": {
      "text/plain": [
       "array([0, 1, 0, 1, 1, 1, 0])"
      ]
     },
     "execution_count": 72,
     "metadata": {},
     "output_type": "execute_result"
    }
   ],
   "source": [
    "y_pred"
   ]
  },
  {
   "cell_type": "code",
   "execution_count": null,
   "id": "186b667c-3154-4143-9372-0227064d13dd",
   "metadata": {},
   "outputs": [],
   "source": []
  }
 ],
 "metadata": {
  "kernelspec": {
   "display_name": "Python 3 (ipykernel)",
   "language": "python",
   "name": "python3"
  },
  "language_info": {
   "codemirror_mode": {
    "name": "ipython",
    "version": 3
   },
   "file_extension": ".py",
   "mimetype": "text/x-python",
   "name": "python",
   "nbconvert_exporter": "python",
   "pygments_lexer": "ipython3",
   "version": "3.10.13"
  }
 },
 "nbformat": 4,
 "nbformat_minor": 5
}
